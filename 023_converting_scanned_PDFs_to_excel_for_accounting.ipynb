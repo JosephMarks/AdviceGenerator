{
  "nbformat": 4,
  "nbformat_minor": 0,
  "metadata": {
    "colab": {
      "name": "023 converting scanned PDFs to excel for accounting",
      "provenance": [],
      "include_colab_link": true
    },
    "kernelspec": {
      "name": "python3",
      "display_name": "Python 3"
    }
  },
  "cells": [
    {
      "cell_type": "markdown",
      "metadata": {
        "id": "view-in-github",
        "colab_type": "text"
      },
      "source": [
        "<a href=\"https://colab.research.google.com/github/JosephMarks/AdviceGenerator/blob/main/023_converting_scanned_PDFs_to_excel_for_accounting.ipynb\" target=\"_parent\"><img src=\"https://colab.research.google.com/assets/colab-badge.svg\" alt=\"Open In Colab\"/></a>"
      ]
    },
    {
      "cell_type": "code",
      "metadata": {
        "id": "zkyeOqINJf2V",
        "outputId": "a6ea16e9-4ce5-41a4-89a7-3c1743285d45",
        "colab": {
          "base_uri": "https://localhost:8080/"
        }
      },
      "source": [
        "!apt-get install ocrmypdf -q"
      ],
      "execution_count": 4,
      "outputs": [
        {
          "output_type": "stream",
          "name": "stdout",
          "text": [
            "Reading package lists...\n",
            "Building dependency tree...\n",
            "Reading state information...\n",
            "The following package was automatically installed and is no longer required:\n",
            "  libnvidia-common-460\n",
            "Use 'apt autoremove' to remove it.\n",
            "The following additional packages will be installed:\n",
            "  fonts-droid-fallback fonts-noto-mono ghostscript gsfonts icc-profiles-free\n",
            "  libart-2.0-2 libcupsfilters1 libcupsimage2 libgs9 libgs9-common libijs-0.35\n",
            "  libjbig2dec0 libqpdf21 poppler-data python3-cffi-backend python3-defusedxml\n",
            "  python3-img2pdf python3-olefile python3-pil python3-pkg-resources\n",
            "  python3-pypdf2 python3-renderpm python3-reportlab python3-reportlab-accel\n",
            "  python3-ruffus qpdf tesseract-ocr tesseract-ocr-eng tesseract-ocr-osd\n",
            "  unpaper\n",
            "Suggested packages:\n",
            "  fonts-noto ghostscript-x ocrmypdf-doc python-watchdog img2pdf poppler-utils\n",
            "  fonts-japanese-mincho | fonts-ipafont-mincho fonts-japanese-gothic\n",
            "  | fonts-ipafont-gothic fonts-arphic-ukai fonts-arphic-uming fonts-nanum\n",
            "  python3-pdfrw python-pil-doc python3-pil-dbg python3-setuptools\n",
            "  python3-renderpm-dbg pdf-viewer python3-egenix-mxtexttools\n",
            "  python-reportlab-doc\n",
            "The following NEW packages will be installed:\n",
            "  fonts-droid-fallback fonts-noto-mono ghostscript gsfonts icc-profiles-free\n",
            "  libart-2.0-2 libcupsfilters1 libcupsimage2 libgs9 libgs9-common libijs-0.35\n",
            "  libjbig2dec0 libqpdf21 ocrmypdf poppler-data python3-cffi-backend\n",
            "  python3-defusedxml python3-img2pdf python3-olefile python3-pil\n",
            "  python3-pkg-resources python3-pypdf2 python3-renderpm python3-reportlab\n",
            "  python3-reportlab-accel python3-ruffus qpdf tesseract-ocr tesseract-ocr-eng\n",
            "  tesseract-ocr-osd unpaper\n",
            "0 upgraded, 31 newly installed, 0 to remove and 20 not upgraded.\n",
            "Need to get 7,409 kB/21.6 MB of archives.\n",
            "After this operation, 75.8 MB of additional disk space will be used.\n",
            "Ign:1 http://archive.ubuntu.com/ubuntu bionic-updates/main amd64 libgs9-common all 9.26~dfsg+0-0ubuntu0.18.04.16\n",
            "Ign:2 http://archive.ubuntu.com/ubuntu bionic-updates/main amd64 libgs9 amd64 9.26~dfsg+0-0ubuntu0.18.04.16\n",
            "Ign:3 http://archive.ubuntu.com/ubuntu bionic-updates/main amd64 ghostscript amd64 9.26~dfsg+0-0ubuntu0.18.04.16\n",
            "Err:1 http://security.ubuntu.com/ubuntu bionic-updates/main amd64 libgs9-common all 9.26~dfsg+0-0ubuntu0.18.04.16\n",
            "  404  Not Found [IP: 91.189.91.38 80]\n",
            "Err:2 http://security.ubuntu.com/ubuntu bionic-updates/main amd64 libgs9 amd64 9.26~dfsg+0-0ubuntu0.18.04.16\n",
            "  404  Not Found [IP: 91.189.91.38 80]\n",
            "Err:3 http://security.ubuntu.com/ubuntu bionic-updates/main amd64 ghostscript amd64 9.26~dfsg+0-0ubuntu0.18.04.16\n",
            "  404  Not Found [IP: 91.189.91.38 80]\n",
            "E: Failed to fetch http://security.ubuntu.com/ubuntu/pool/main/g/ghostscript/libgs9-common_9.26~dfsg+0-0ubuntu0.18.04.16_all.deb  404  Not Found [IP: 91.189.91.38 80]\n",
            "E: Failed to fetch http://security.ubuntu.com/ubuntu/pool/main/g/ghostscript/libgs9_9.26~dfsg+0-0ubuntu0.18.04.16_amd64.deb  404  Not Found [IP: 91.189.91.38 80]\n",
            "E: Failed to fetch http://security.ubuntu.com/ubuntu/pool/main/g/ghostscript/ghostscript_9.26~dfsg+0-0ubuntu0.18.04.16_amd64.deb  404  Not Found [IP: 91.189.91.38 80]\n",
            "E: Unable to fetch some archives, maybe run apt-get update or try with --fix-missing?\n"
          ]
        }
      ]
    },
    {
      "cell_type": "code",
      "metadata": {
        "id": "OIkKFZW-7gSS"
      },
      "source": [
        "!pip install pdfplumber -q"
      ],
      "execution_count": 5,
      "outputs": []
    },
    {
      "cell_type": "code",
      "source": [
        "!pip install airtable-python-wrapper"
      ],
      "metadata": {
        "id": "TYdFecYgni-u",
        "outputId": "cd29c3de-580f-48dd-c8b6-8dff38b9d62f",
        "colab": {
          "base_uri": "https://localhost:8080/"
        }
      },
      "execution_count": 6,
      "outputs": [
        {
          "output_type": "stream",
          "name": "stdout",
          "text": [
            "Looking in indexes: https://pypi.org/simple, https://us-python.pkg.dev/colab-wheels/public/simple/\n",
            "Requirement already satisfied: airtable-python-wrapper in /usr/local/lib/python3.7/dist-packages (0.15.3)\n",
            "Requirement already satisfied: requests>=2 in /usr/local/lib/python3.7/dist-packages (from airtable-python-wrapper) (2.23.0)\n",
            "Requirement already satisfied: chardet<4,>=3.0.2 in /usr/local/lib/python3.7/dist-packages (from requests>=2->airtable-python-wrapper) (3.0.4)\n",
            "Requirement already satisfied: certifi>=2017.4.17 in /usr/local/lib/python3.7/dist-packages (from requests>=2->airtable-python-wrapper) (2022.6.15)\n",
            "Requirement already satisfied: urllib3!=1.25.0,!=1.25.1,<1.26,>=1.21.1 in /usr/local/lib/python3.7/dist-packages (from requests>=2->airtable-python-wrapper) (1.24.3)\n",
            "Requirement already satisfied: idna<3,>=2.5 in /usr/local/lib/python3.7/dist-packages (from requests>=2->airtable-python-wrapper) (2.10)\n"
          ]
        }
      ]
    },
    {
      "cell_type": "code",
      "metadata": {
        "id": "bnD8KiTZK7-H"
      },
      "source": [
        "import os\n",
        "from airtable import Airtable\n",
        "import requests\n",
        "import pdfplumber"
      ],
      "execution_count": 7,
      "outputs": []
    },
    {
      "cell_type": "code",
      "metadata": {
        "id": "gAg5Ob3dPbx_"
      },
      "source": [
        "def download_file(url):\n",
        "    local_filename = url.split('/')[-1]\n",
        "    \n",
        "    with requests.get(url) as r:\n",
        "        assert r.status_code == 200, f'error, status code is {r.status_code}'\n",
        "        with open(local_filename, 'wb') as f:\n",
        "            f.write(r.content)\n",
        "        \n",
        "    return local_filename"
      ],
      "execution_count": 8,
      "outputs": []
    },
    {
      "cell_type": "code",
      "metadata": {
        "id": "fh1M72iz7mGP"
      },
      "source": [
        "invoice = 'Novo.pdf'\n",
        "# invoice_pdf = download_file(invoice)"
      ],
      "execution_count": 22,
      "outputs": []
    },
    {
      "cell_type": "code",
      "metadata": {
        "id": "5DnRw5RlXmq5",
        "colab": {
          "base_uri": "https://localhost:8080/",
          "height": 35
        },
        "outputId": "23a6a7c4-13c3-4b1e-fc4e-d55775de39df"
      },
      "source": [
        "invoice_pdf"
      ],
      "execution_count": 10,
      "outputs": [
        {
          "output_type": "execute_result",
          "data": {
            "text/plain": [
              "'AcastStoriesIncW-9.pdf'"
            ],
            "application/vnd.google.colaboratory.intrinsic+json": {
              "type": "string"
            }
          },
          "metadata": {},
          "execution_count": 10
        }
      ]
    },
    {
      "cell_type": "code",
      "metadata": {
        "id": "hjHUB9b87ypz"
      },
      "source": [
        "with pdfplumber.open(invoice_pdf) as pdf:\n",
        "    page = pdf.pages[0]\n",
        "    text = page.extract_text()\n",
        "    # print(text)"
      ],
      "execution_count": 11,
      "outputs": []
    },
    {
      "cell_type": "code",
      "metadata": {
        "id": "GCLypZf_z0jF",
        "outputId": "cb5063df-d79e-4523-a717-ac17b71b3c79",
        "colab": {
          "base_uri": "https://localhost:8080/"
        }
      },
      "source": [
        "os.system(f'ocrmypdf {invoice_pdf} output.pdf')"
      ],
      "execution_count": 55,
      "outputs": [
        {
          "output_type": "execute_result",
          "data": {
            "text/plain": [
              "32512"
            ]
          },
          "metadata": {},
          "execution_count": 55
        }
      ]
    },
    {
      "cell_type": "code",
      "metadata": {
        "id": "psTdGdHm-IKm",
        "outputId": "962f689e-fa38-4863-aab9-fd23c306af5b",
        "colab": {
          "base_uri": "https://localhost:8080/",
          "height": 340
        }
      },
      "source": [
        "with pdfplumber.open('output.pdf') as pdf:\n",
        "    page = pdf.pages[0]\n",
        "    text = page.extract_text(x_tolerance=2)\n",
        "    print(text)"
      ],
      "execution_count": 57,
      "outputs": [
        {
          "output_type": "error",
          "ename": "FileNotFoundError",
          "evalue": "ignored",
          "traceback": [
            "\u001b[0;31m---------------------------------------------------------------------------\u001b[0m",
            "\u001b[0;31mFileNotFoundError\u001b[0m                         Traceback (most recent call last)",
            "\u001b[0;32m<ipython-input-57-8274f7005856>\u001b[0m in \u001b[0;36m<module>\u001b[0;34m\u001b[0m\n\u001b[0;32m----> 1\u001b[0;31m \u001b[0;32mwith\u001b[0m \u001b[0mpdfplumber\u001b[0m\u001b[0;34m.\u001b[0m\u001b[0mopen\u001b[0m\u001b[0;34m(\u001b[0m\u001b[0;34m'output.pdf'\u001b[0m\u001b[0;34m)\u001b[0m \u001b[0;32mas\u001b[0m \u001b[0mpdf\u001b[0m\u001b[0;34m:\u001b[0m\u001b[0;34m\u001b[0m\u001b[0;34m\u001b[0m\u001b[0m\n\u001b[0m\u001b[1;32m      2\u001b[0m     \u001b[0mpage\u001b[0m \u001b[0;34m=\u001b[0m \u001b[0mpdf\u001b[0m\u001b[0;34m.\u001b[0m\u001b[0mpages\u001b[0m\u001b[0;34m[\u001b[0m\u001b[0;36m0\u001b[0m\u001b[0;34m]\u001b[0m\u001b[0;34m\u001b[0m\u001b[0;34m\u001b[0m\u001b[0m\n\u001b[1;32m      3\u001b[0m     \u001b[0mtext\u001b[0m \u001b[0;34m=\u001b[0m \u001b[0mpage\u001b[0m\u001b[0;34m.\u001b[0m\u001b[0mextract_text\u001b[0m\u001b[0;34m(\u001b[0m\u001b[0mx_tolerance\u001b[0m\u001b[0;34m=\u001b[0m\u001b[0;36m2\u001b[0m\u001b[0;34m)\u001b[0m\u001b[0;34m\u001b[0m\u001b[0;34m\u001b[0m\u001b[0m\n\u001b[1;32m      4\u001b[0m     \u001b[0mprint\u001b[0m\u001b[0;34m(\u001b[0m\u001b[0mtext\u001b[0m\u001b[0;34m)\u001b[0m\u001b[0;34m\u001b[0m\u001b[0;34m\u001b[0m\u001b[0m\n",
            "\u001b[0;32m/usr/local/lib/python3.7/dist-packages/pdfplumber/pdf.py\u001b[0m in \u001b[0;36mopen\u001b[0;34m(cls, path_or_fp, pages, laparams, password, strict_metadata)\u001b[0m\n\u001b[1;32m     69\u001b[0m \u001b[0;34m\u001b[0m\u001b[0m\n\u001b[1;32m     70\u001b[0m         \u001b[0;32mif\u001b[0m \u001b[0misinstance\u001b[0m\u001b[0;34m(\u001b[0m\u001b[0mpath_or_fp\u001b[0m\u001b[0;34m,\u001b[0m \u001b[0;34m(\u001b[0m\u001b[0mstr\u001b[0m\u001b[0;34m,\u001b[0m \u001b[0mpathlib\u001b[0m\u001b[0;34m.\u001b[0m\u001b[0mPath\u001b[0m\u001b[0;34m)\u001b[0m\u001b[0;34m)\u001b[0m\u001b[0;34m:\u001b[0m\u001b[0;34m\u001b[0m\u001b[0;34m\u001b[0m\u001b[0m\n\u001b[0;32m---> 71\u001b[0;31m             \u001b[0mstream\u001b[0m \u001b[0;34m=\u001b[0m \u001b[0mopen\u001b[0m\u001b[0;34m(\u001b[0m\u001b[0mpath_or_fp\u001b[0m\u001b[0;34m,\u001b[0m \u001b[0;34m\"rb\"\u001b[0m\u001b[0;34m)\u001b[0m\u001b[0;34m\u001b[0m\u001b[0;34m\u001b[0m\u001b[0m\n\u001b[0m\u001b[1;32m     72\u001b[0m             \u001b[0mstream_is_external\u001b[0m \u001b[0;34m=\u001b[0m \u001b[0;32mFalse\u001b[0m\u001b[0;34m\u001b[0m\u001b[0;34m\u001b[0m\u001b[0m\n\u001b[1;32m     73\u001b[0m         \u001b[0;32melse\u001b[0m\u001b[0;34m:\u001b[0m\u001b[0;34m\u001b[0m\u001b[0;34m\u001b[0m\u001b[0m\n",
            "\u001b[0;31mFileNotFoundError\u001b[0m: [Errno 2] No such file or directory: 'output.pdf'"
          ]
        }
      ]
    },
    {
      "cell_type": "code",
      "metadata": {
        "id": "4eUU1w5d4fBP"
      },
      "source": [
        "lines = text.split('\\n')"
      ],
      "execution_count": 23,
      "outputs": []
    },
    {
      "cell_type": "code",
      "metadata": {
        "id": "1h6Y8UqgU9si",
        "colab": {
          "base_uri": "https://localhost:8080/",
          "height": 236
        },
        "outputId": "2ddc4750-8f5f-49de-ea28-8438a3a2543a"
      },
      "source": [
        "magicString = 'Number To Give the Requester for guidelines on whose number to enter.'\n",
        "index = lines.index(magicString)\n",
        "einNumber = index+1\n",
        "inputValue = lines[einNumber].replace(\" \",\"\")\n",
        "print(inputValue)"
      ],
      "execution_count": 24,
      "outputs": [
        {
          "output_type": "error",
          "ename": "ValueError",
          "evalue": "ignored",
          "traceback": [
            "\u001b[0;31m---------------------------------------------------------------------------\u001b[0m",
            "\u001b[0;31mValueError\u001b[0m                                Traceback (most recent call last)",
            "\u001b[0;32m<ipython-input-24-b869b5f57167>\u001b[0m in \u001b[0;36m<module>\u001b[0;34m\u001b[0m\n\u001b[1;32m      1\u001b[0m \u001b[0mmagicString\u001b[0m \u001b[0;34m=\u001b[0m \u001b[0;34m'Number To Give the Requester for guidelines on whose number to enter.'\u001b[0m\u001b[0;34m\u001b[0m\u001b[0;34m\u001b[0m\u001b[0m\n\u001b[0;32m----> 2\u001b[0;31m \u001b[0mindex\u001b[0m \u001b[0;34m=\u001b[0m \u001b[0mlines\u001b[0m\u001b[0;34m.\u001b[0m\u001b[0mindex\u001b[0m\u001b[0;34m(\u001b[0m\u001b[0mmagicString\u001b[0m\u001b[0;34m)\u001b[0m\u001b[0;34m\u001b[0m\u001b[0;34m\u001b[0m\u001b[0m\n\u001b[0m\u001b[1;32m      3\u001b[0m \u001b[0meinNumber\u001b[0m \u001b[0;34m=\u001b[0m \u001b[0mindex\u001b[0m\u001b[0;34m+\u001b[0m\u001b[0;36m1\u001b[0m\u001b[0;34m\u001b[0m\u001b[0;34m\u001b[0m\u001b[0m\n\u001b[1;32m      4\u001b[0m \u001b[0minputValue\u001b[0m \u001b[0;34m=\u001b[0m \u001b[0mlines\u001b[0m\u001b[0;34m[\u001b[0m\u001b[0meinNumber\u001b[0m\u001b[0;34m]\u001b[0m\u001b[0;34m.\u001b[0m\u001b[0mreplace\u001b[0m\u001b[0;34m(\u001b[0m\u001b[0;34m\" \"\u001b[0m\u001b[0;34m,\u001b[0m\u001b[0;34m\"\"\u001b[0m\u001b[0;34m)\u001b[0m\u001b[0;34m\u001b[0m\u001b[0;34m\u001b[0m\u001b[0m\n\u001b[1;32m      5\u001b[0m \u001b[0mprint\u001b[0m\u001b[0;34m(\u001b[0m\u001b[0minputValue\u001b[0m\u001b[0;34m)\u001b[0m\u001b[0;34m\u001b[0m\u001b[0;34m\u001b[0m\u001b[0m\n",
            "\u001b[0;31mValueError\u001b[0m: 'Number To Give the Requester for guidelines on whose number to enter.' is not in list"
          ]
        }
      ]
    },
    {
      "cell_type": "code",
      "source": [
        "# Base key, table name and api key defined for Airtable wrapper function\n",
        "base_key = 'appLahV1A9j5NPq3D'\n",
        "table_name = 'Test Vendors'\n",
        "api_key = 'keyahhzaPENx3KKNR'\n",
        "\n",
        "airtable = Airtable(base_key, table_name, api_key)\n"
      ],
      "metadata": {
        "id": "FJZNE2f5nWnl"
      },
      "execution_count": 15,
      "outputs": []
    },
    {
      "cell_type": "code",
      "source": [
        "records = airtable.get_all()"
      ],
      "metadata": {
        "id": "MT3ecDhTnWk-"
      },
      "execution_count": 16,
      "outputs": []
    },
    {
      "cell_type": "code",
      "source": [
        "# records"
      ],
      "metadata": {
        "id": "F1YK8bVNuLJM"
      },
      "execution_count": 143,
      "outputs": []
    },
    {
      "cell_type": "code",
      "source": [
        "for record in records:\n",
        "  try:\n",
        "    url = record['fields']['W9 - W8BEN'][0]['url']\n",
        "    invoice = url\n",
        "    invoice_pdf = download_file(invoice)\n",
        "    with pdfplumber.open(invoice_pdf) as pdf:\n",
        "      page = pdf.pages[0]\n",
        "      text = page.extract_text()\n",
        "      lines = text.split('\\n')\n",
        "      magicString = 'Number To Give the Requester for guidelines on whose number to enter.'\n",
        "      index = lines.index(magicString)\n",
        "      einNumber = index+1\n",
        "      inputValue = lines[einNumber].replace(\" \",\"\")\n",
        "      fields = {'Tax Number': inputValue}\n",
        "      airtable.update(record['id'], fields)\n",
        "  except:\n",
        "    continue\n"
      ],
      "metadata": {
        "id": "YgAYohZtnWiZ"
      },
      "execution_count": 17,
      "outputs": []
    },
    {
      "cell_type": "code",
      "source": [],
      "metadata": {
        "id": "zkf7H1_9nWfh"
      },
      "execution_count": null,
      "outputs": []
    },
    {
      "cell_type": "code",
      "source": [],
      "metadata": {
        "id": "Ucuf0l4GnWdM"
      },
      "execution_count": null,
      "outputs": []
    },
    {
      "cell_type": "code",
      "source": [],
      "metadata": {
        "id": "XWEIyNb7nWaZ"
      },
      "execution_count": null,
      "outputs": []
    },
    {
      "cell_type": "code",
      "source": [],
      "metadata": {
        "id": "9k2S5fydnWXu"
      },
      "execution_count": null,
      "outputs": []
    },
    {
      "cell_type": "code",
      "source": [],
      "metadata": {
        "id": "VghHGSfOnWJ6"
      },
      "execution_count": null,
      "outputs": []
    },
    {
      "cell_type": "code",
      "metadata": {
        "id": "IxKbWlrJVA0R"
      },
      "source": [
        "import re"
      ],
      "execution_count": 60,
      "outputs": []
    },
    {
      "cell_type": "code",
      "metadata": {
        "id": "FYszGGphYTI7"
      },
      "source": [
        "amt_re = re.compile(r'\\.\\d\\d$')"
      ],
      "execution_count": null,
      "outputs": []
    },
    {
      "cell_type": "code",
      "metadata": {
        "id": "d6GxjOnUYXzY"
      },
      "source": [
        "subt = 0\n",
        "\n",
        "for line in lines:\n",
        "    if 'SUBTOTAL' in line:\n",
        "        break\n",
        "    if amt_re.search(line):\n",
        "        subt += float(line.split()[-1].replace(',', '').replace('$', ''))"
      ],
      "execution_count": null,
      "outputs": []
    },
    {
      "cell_type": "code",
      "metadata": {
        "id": "zf7IUBoUYbOD",
        "colab": {
          "base_uri": "https://localhost:8080/",
          "height": 35
        },
        "outputId": "d30ca132-7675-42db-fc68-0c305139db84"
      },
      "source": [
        "subt"
      ],
      "execution_count": null,
      "outputs": [
        {
          "output_type": "execute_result",
          "data": {
            "text/plain": [
              "2090.0"
            ]
          },
          "metadata": {
            "tags": []
          },
          "execution_count": 22
        }
      ]
    },
    {
      "cell_type": "code",
      "metadata": {
        "id": "Ej2AUIsfYxw0",
        "colab": {
          "base_uri": "https://localhost:8080/",
          "height": 451
        },
        "outputId": "87b74d98-4c46-4ef4-aac9-8eb8ba2dfc06"
      },
      "source": [
        "lines"
      ],
      "execution_count": null,
      "outputs": [
        {
          "output_type": "execute_result",
          "data": {
            "text/plain": [
              "['Stanford Plumbing & Heating INVOICE',\n",
              " '123 Madison drive, Seattle, WA, 7829Q',\n",
              " 'plumbingstanford.com',\n",
              " '990-120-4560',\n",
              " 'BILL TO Invoice No: winvo2081',\n",
              " 'Allen Smith Invoice Date: nae',\n",
              " '87Private st, Seattle, WA ‘Due Date: 12/01/18',\n",
              " 'allen@gmailcom',\n",
              " '990-302-1898',\n",
              " 'DESCRIPTION QTYHR UNITPRICE TOTAL',\n",
              " 'Installed new kitchen sink(hours) 150.00',\n",
              " 'Toto sink 1 $00.00 $00.00',\n",
              " 'Worcester greenstar magnetic system filter 1 190.00 190.00',\n",
              " 'Nest smart thermostat 1 250.00 250.00',\n",
              " 'Worcester Greenstar 301 1 1500.00 1500.00',\n",
              " '‘SUBTOTAL 2590.00',\n",
              " 'DISCOUNT 50.00',\n",
              " '‘SUBTOTAL LESS DISCOUNT 2540.00',\n",
              " 'Tank you for your business!',\n",
              " 'TAXRATE 12.00%',\n",
              " 'TOTAL TAX 304.80',\n",
              " 'Balance Due $2,844.80',\n",
              " 'Terms & Instructions',\n",
              " 'Please pay within 20 days by PayPal (bob@stanfordplumbingcom)',\n",
              " 'Installed products have S year warranty.']"
            ]
          },
          "metadata": {
            "tags": []
          },
          "execution_count": 23
        }
      ]
    },
    {
      "cell_type": "code",
      "metadata": {
        "id": "DaUo7dk9Y2Aj"
      },
      "source": [],
      "execution_count": null,
      "outputs": []
    }
  ]
}